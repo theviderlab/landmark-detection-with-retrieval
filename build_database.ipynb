{
 "cells": [
  {
   "cell_type": "code",
   "execution_count": 14,
   "id": "3ed69fa5-5442-4fa2-affa-aa1a5481875b",
   "metadata": {},
   "outputs": [],
   "source": [
    "from landmark_detection.pipeline import Pipeline_Yolo_CVNet_SG\n",
    "from benchmark.database import build_image_database\n",
    "from benchmark.utils import show_image, show_bboxes, \n",
    "\n",
    "import os\n",
    "import pandas as pd\n",
    "import pickle\n",
    "import numpy as np\n",
    "\n",
    "import yaml"
   ]
  },
  {
   "cell_type": "code",
   "execution_count": 16,
   "id": "b4dd9da8-4bf4-4e0d-b64f-6fa623eabc2e",
   "metadata": {},
   "outputs": [
    {
     "name": "stdout",
     "output_type": "stream",
     "text": [
      "Creando versión ONNX del detector\n",
      "Ultralytics 8.3.146  Python-3.11.11 torch-2.7.0+cpu CPU (Intel Core(TM) i5-9300HF 2.40GHz)\n",
      "YOLOv8n summary (fused): 72 layers, 3,492,527 parameters, 0 gradients, 10.5 GFLOPs\n",
      "\n",
      "\u001b[34m\u001b[1mPyTorch:\u001b[0m starting from 'C:\\Users\\rdiaz\\Documents\\GitHub\\landmark-detection-with-retrieval\\landmark_detection\\models\\yolov8n-oiv7.pt' with input shape (1, 3, 640, 640) BCHW and output shape(s) (1, 605, 8400) (6.9 MB)\n",
      "\n",
      "\u001b[34m\u001b[1mONNX:\u001b[0m starting export with onnx 1.17.0 opset 16...\n",
      "\u001b[34m\u001b[1mONNX:\u001b[0m slimming with onnxslim 0.1.54...\n",
      "\u001b[34m\u001b[1mONNX:\u001b[0m export success  15.9s, saved as 'C:\\Users\\rdiaz\\Documents\\GitHub\\landmark-detection-with-retrieval\\landmark_detection\\models\\yolov8n-oiv7.onnx' (13.5 MB)\n",
      "\n",
      "Export complete (19.9s)\n",
      "Results saved to \u001b[1mC:\\Users\\rdiaz\\Documents\\GitHub\\landmark-detection-with-retrieval\\landmark_detection\\models\u001b[0m\n",
      "Predict:         yolo predict task=detect model=C:\\Users\\rdiaz\\Documents\\GitHub\\landmark-detection-with-retrieval\\landmark_detection\\models\\yolov8n-oiv7.onnx imgsz=640  \n",
      "Validate:        yolo val task=detect model=C:\\Users\\rdiaz\\Documents\\GitHub\\landmark-detection-with-retrieval\\landmark_detection\\models\\yolov8n-oiv7.onnx imgsz=640 data=/usr/src/ultralytics/ultralytics/cfg/datasets/open-images-v7.yaml  \n",
      "Visualize:       https://netron.app\n",
      "Instanciando el detector\n",
      "Creando versión ONNX del extractor\n",
      "Creando versión ONNX del pipeline completo\n",
      "Instanciando el extractor\n",
      "Instanciando el pipeline completo\n"
     ]
    }
   ],
   "source": [
    "pipeline = Pipeline_Yolo_CVNet_SG(\n",
    "        detector_file = \"yolov8n-oiv7.pt\",\n",
    "        extractor_onnx_file = \"cvnet-sg-v1.onnx\",\n",
    "        pipeline_onnx_file = \"pipeline-yolo-cvnet-sg-v1.onnx\",\n",
    "        image_dim = (640, 640),\n",
    "        allowed_classes = [41,68,70,74,87,95,113,144,150,158,164,165,193,205,212,224,257,\n",
    "                                      298,310,335,351,354,390,393,401,403,439,442,457,466,489,510,512,\n",
    "                                      514,524,530,531,543,546,554,565,573,580,587,588,591],\n",
    "        score_thresh = 0.10,\n",
    "        iou_thresh = 0.45,\n",
    "        scales = [0.7071, 1.0, 1.4142],\n",
    "        mean = [0.485, 0.456, 0.406],\n",
    "        std  = [0.229, 0.224, 0.225],\n",
    "        rgem_pr = 2.5,\n",
    "        rgem_size = 5,\n",
    "        gem_p = 4.6,\n",
    "        sgem_ps = 10.0,\n",
    "        sgem_infinity = False,\n",
    "        eps = 1e-8  \n",
    ")"
   ]
  },
  {
   "cell_type": "code",
   "execution_count": 27,
   "id": "da35c793-f454-4c5f-af4d-9dfb3ee6204f",
   "metadata": {},
   "outputs": [],
   "source": [
    "# Paths\n",
    "CLASS_NAMES_PATH = os.path.join(\"oiv7.yaml\")\n",
    "PIPELINE_CONFIG_PATH = os.path.join(\"configs\", \"pipeline-yolo-cvnet-sg-v1\")\n",
    "\n",
    "# Dataset Oxford\n",
    "ROXFORD5K_PATH = os.path.join(\"datasets\", \"roxford5k\", \"jpg\")\n",
    "ROXFORD5K_PKL = os.path.join(\"datasets\", \"roxford5k\", \"gnd_roxford5k.pkl\")\n",
    "ROXFORD5K_CSV = os.path.join(\"datasets\", \"roxford5k\", \"roxford5k_image_data.csv\")\n",
    "ROXFORD5K_DF = os.path.join(\"datasets\", \"roxford5k\", \"results\", \"df_roxford5k-v1.pkl\")\n",
    "ROXFORD5K_DESC = os.path.join(\"datasets\", \"roxford5k\", \"results\", \"desc_roxford5k-v1.pkl\")\n",
    "\n",
    "# Dataset Paris\n",
    "RPARIS6K_PATH = os.path.join(\"datasets\", \"rparis6k\", \"jpg\")\n",
    "RPARIS6K_PKL = os.path.join(\"datasets\", \"rparis6k\", \"gnd_rparis6k.pkl\")\n",
    "RPARIS6K_CSV = os.path.join(\"datasets\", \"rparis6k\", \"rparis6k_image_data.csv\")\n",
    "RPARIS6K_DF = os.path.join(\"datasets\", \"rparis6k\", \"results\", \"df_rparis6k-v1.pkl\")\n",
    "RPARIS6K_DESC = os.path.join(\"datasets\", \"rparis6k\", \"results\", \"desc_rparis6k-v1.pkl\")"
   ]
  },
  {
   "cell_type": "code",
   "execution_count": 28,
   "id": "a32f2f0d-ed73-4101-9c33-156a2fcd9a03",
   "metadata": {},
   "outputs": [
    {
     "ename": "AttributeError",
     "evalue": "'Pipeline_Yolo_CVNet_SG' object has no attribute 'to_json'",
     "output_type": "error",
     "traceback": [
      "\u001b[31m---------------------------------------------------------------------------\u001b[39m",
      "\u001b[31mAttributeError\u001b[39m                            Traceback (most recent call last)",
      "\u001b[36mCell\u001b[39m\u001b[36m \u001b[39m\u001b[32mIn[28]\u001b[39m\u001b[32m, line 1\u001b[39m\n\u001b[32m----> \u001b[39m\u001b[32m1\u001b[39m pipeline.to_json(PIPELINE_CONFIG_PATH)\n",
      "\u001b[31mAttributeError\u001b[39m: 'Pipeline_Yolo_CVNet_SG' object has no attribute 'to_json'"
     ]
    }
   ],
   "source": [
    "pipeline.to_json(PIPELINE_CONFIG_PATH)"
   ]
  },
  {
   "cell_type": "code",
   "execution_count": 19,
   "id": "f8730813-203d-417d-8da2-204b2ef2f8ba",
   "metadata": {},
   "outputs": [
    {
     "name": "stderr",
     "output_type": "stream",
     "text": [
      "C:\\Users\\rdiaz\\AppData\\Local\\Temp\\ipykernel_20080\\1926544894.py:114: FutureWarning: The behavior of DataFrame concatenation with empty or all-NA entries is deprecated. In a future version, this will no longer exclude empty or all-NA columns when determining the result dtypes. To retain the old behavior, exclude the relevant entries before the concat operation.\n",
      "  df_result = pd.concat([df_result, df_new], ignore_index=True)\n",
      "Procesando imágenes: 100%|██████████████████████████████████████████████████████████████████████████████████████████████████████████████████████████████████████████████████| 5063/5063 [2:57:10<00:00,  2.10s/it]\n"
     ]
    }
   ],
   "source": [
    "df_result, descriptors_final = build_image_database(\n",
    "    pipeline,\n",
    "    image_folder = ROXFORD5K_PATH,\n",
    "    df_pickle_path = ROXFORD5K_DF,\n",
    "    descriptor_pickle_path = ROXFORD5K_DESC,\n",
    ")"
   ]
  },
  {
   "cell_type": "code",
   "execution_count": 24,
   "id": "1ccb5d7b-4dce-4202-858c-5457bab36046",
   "metadata": {},
   "outputs": [
    {
     "data": {
      "text/plain": [
       "(19815, 4)"
      ]
     },
     "execution_count": 24,
     "metadata": {},
     "output_type": "execute_result"
    }
   ],
   "source": [
    "df_result.shape"
   ]
  },
  {
   "cell_type": "code",
   "execution_count": 26,
   "id": "e413f47d-5473-48ca-adb7-cd32f3fa11d2",
   "metadata": {},
   "outputs": [
    {
     "data": {
      "text/plain": [
       "(19815, 2048)"
      ]
     },
     "execution_count": 26,
     "metadata": {},
     "output_type": "execute_result"
    }
   ],
   "source": [
    "descriptors_final.shape"
   ]
  },
  {
   "cell_type": "code",
   "execution_count": 23,
   "id": "25af88de-3b19-44d4-b321-fa24959dd5c0",
   "metadata": {},
   "outputs": [],
   "source": []
  }
 ],
 "metadata": {
  "kernelspec": {
   "display_name": "Python 3 (ipykernel)",
   "language": "python",
   "name": "python3"
  },
  "language_info": {
   "codemirror_mode": {
    "name": "ipython",
    "version": 3
   },
   "file_extension": ".py",
   "mimetype": "text/x-python",
   "name": "python",
   "nbconvert_exporter": "python",
   "pygments_lexer": "ipython3",
   "version": "3.11.11"
  }
 },
 "nbformat": 4,
 "nbformat_minor": 5
}

{
 "cells": [
  {
   "cell_type": "code",
   "execution_count": 1,
   "id": "47529a07-acd0-49b7-89d3-563223d6c4a3",
   "metadata": {},
   "outputs": [],
   "source": [
    "from landmark_detection.pipeline import Pipeline_Yolo_CVNet_SG\n",
    "from landmark_detection.utils import show_image, show_bboxes, show_similarity_search\n",
    "\n",
    "import os\n",
    "import pandas as pd\n",
    "import pickle\n",
    "import numpy as np"
   ]
  },
  {
   "cell_type": "code",
   "execution_count": 2,
   "id": "5c8a02be-6971-4e18-b306-735420eb5271",
   "metadata": {},
   "outputs": [],
   "source": [
    "DATASETS_PATH = os.path.abspath(\"datasets\")\n",
    "\n",
    "CACERES_CSV = os.path.join(DATASETS_PATH, \"caceres\", \"caceres_dataset.csv\")\n",
    "CACERES_DF = os.path.join(DATASETS_PATH, \"caceres\", \"results\", \"df_caceres-v1.pkl\")\n",
    "CACERES_DESC = os.path.join(DATASETS_PATH, \"caceres\", \"results\", \"desc_caceres-v1.pkl\")\n",
    "\n",
    "TEST_PLACES_DB = os.path.join(\"landmark_detection\", \"test_data\", \"test_places_db.pkl\")\n",
    "\n",
    "caceres_csv = pd.read_csv(CACERES_CSV)\n",
    "\n",
    "with open(CACERES_DF, 'rb') as f:\n",
    "    caceres_df = pickle.load(f)\n",
    "\n",
    "with open(CACERES_DESC, 'rb') as f:\n",
    "    caceres_desc = pickle.load(f)\n",
    "\n",
    "# Crear columna sin extensión en df_result_cac\n",
    "caceres_df[\"filename\"] = caceres_df[\"image_name\"].str.replace(\".jpg\", \"\", regex=False)\n",
    "\n",
    "# Hacer el merge con caceres_dataset para obtener el landmark_id\n",
    "df_merged = caceres_df.merge(caceres_csv[[\"filename\", \"landmark_id\"]], on=\"filename\", how=\"left\")\n",
    "\n",
    "# Obtener el tensor de landmark_id\n",
    "places_id = df_merged[\"landmark_id\"].values\n",
    "\n",
    "caceres_desc_ids = np.concatenate((caceres_desc, places_id[:, None]), axis=1)\n",
    "\n",
    "with open(TEST_PLACES_DB, 'wb') as f:\n",
    "    pickle.dump(caceres_desc_ids, f)"
   ]
  },
  {
   "cell_type": "code",
   "execution_count": 3,
   "id": "39855219-71f5-4c27-b439-b8444115cf3c",
   "metadata": {},
   "outputs": [
    {
     "name": "stdout",
     "output_type": "stream",
     "text": [
      "Creando versión ONNX del detector\n",
      "Ultralytics 8.3.146  Python-3.11.11 torch-2.7.0+cpu CPU (Intel Core(TM) i5-9300HF 2.40GHz)\n",
      "YOLOv8n summary (fused): 72 layers, 3,492,527 parameters, 0 gradients, 10.5 GFLOPs\n",
      "\n",
      "\u001b[34m\u001b[1mPyTorch:\u001b[0m starting from 'C:\\Users\\rdiaz\\Documents\\GitHub\\landmark-detection-with-retrieval\\landmark_detection\\models\\yolov8n-oiv7.pt' with input shape (1, 3, 640, 640) BCHW and output shape(s) (1, 605, 8400) (6.9 MB)\n",
      "\n",
      "\u001b[34m\u001b[1mONNX:\u001b[0m starting export with onnx 1.17.0 opset 16...\n",
      "\u001b[34m\u001b[1mONNX:\u001b[0m slimming with onnxslim 0.1.54...\n",
      "\u001b[34m\u001b[1mONNX:\u001b[0m export success  2.5s, saved as 'C:\\Users\\rdiaz\\Documents\\GitHub\\landmark-detection-with-retrieval\\landmark_detection\\models\\yolov8n-oiv7.onnx' (13.5 MB)\n",
      "\n",
      "Export complete (3.2s)\n",
      "Results saved to \u001b[1mC:\\Users\\rdiaz\\Documents\\GitHub\\landmark-detection-with-retrieval\\landmark_detection\\models\u001b[0m\n",
      "Predict:         yolo predict task=detect model=C:\\Users\\rdiaz\\Documents\\GitHub\\landmark-detection-with-retrieval\\landmark_detection\\models\\yolov8n-oiv7.onnx imgsz=640  \n",
      "Validate:        yolo val task=detect model=C:\\Users\\rdiaz\\Documents\\GitHub\\landmark-detection-with-retrieval\\landmark_detection\\models\\yolov8n-oiv7.onnx imgsz=640 data=/usr/src/ultralytics/ultralytics/cfg/datasets/open-images-v7.yaml  \n",
      "Visualize:       https://netron.app\n",
      "Instanciando el detector\n",
      "Creando versión ONNX del preprocess\n",
      "Creando versión ONNX del extractor\n",
      "Instanciando el extractor\n",
      "Creando versión ONNX del searcher\n",
      "Instanciando el searcher\n",
      "Creando versión ONNX del postprocess\n",
      "Creando versión ONNX del pipeline completo\n",
      "['ext_boxes', 'ext_descriptors', 'ext_orig_size_out', 'ext_places_db_out']\n",
      "['ser_orig_size']\n"
     ]
    },
    {
     "ename": "IndexError",
     "evalue": "list index out of range",
     "output_type": "error",
     "traceback": [
      "\u001b[31m---------------------------------------------------------------------------\u001b[39m",
      "\u001b[31mIndexError\u001b[39m                                Traceback (most recent call last)",
      "\u001b[36mCell\u001b[39m\u001b[36m \u001b[39m\u001b[32mIn[3]\u001b[39m\u001b[32m, line 1\u001b[39m\n\u001b[32m----> \u001b[39m\u001b[32m1\u001b[39m pipeline = Pipeline_Yolo_CVNet_SG(\n\u001b[32m      2\u001b[39m         detector_file = \u001b[33m\"\u001b[39m\u001b[33myolov8n-oiv7.pt\u001b[39m\u001b[33m\"\u001b[39m,\n\u001b[32m      3\u001b[39m         extractor_onnx_file = \u001b[33m\"\u001b[39m\u001b[33mcvnet-sg-v1.onnx\u001b[39m\u001b[33m\"\u001b[39m,\n\u001b[32m      4\u001b[39m         pipeline_onnx_file = \u001b[33m\"\u001b[39m\u001b[33mpipeline-yolo-cvnet-sg-v1.onnx\u001b[39m\u001b[33m\"\u001b[39m,\n\u001b[32m      5\u001b[39m         image_dim = (\u001b[32m640\u001b[39m, \u001b[32m640\u001b[39m),\n\u001b[32m      6\u001b[39m         allowed_classes = [\u001b[32m41\u001b[39m,\u001b[32m68\u001b[39m,\u001b[32m70\u001b[39m,\u001b[32m74\u001b[39m,\u001b[32m87\u001b[39m,\u001b[32m95\u001b[39m,\u001b[32m113\u001b[39m,\u001b[32m144\u001b[39m,\u001b[32m150\u001b[39m,\u001b[32m158\u001b[39m,\u001b[32m164\u001b[39m,\u001b[32m165\u001b[39m,\u001b[32m193\u001b[39m,\u001b[32m205\u001b[39m,\u001b[32m212\u001b[39m,\u001b[32m224\u001b[39m,\u001b[32m257\u001b[39m,\n\u001b[32m      7\u001b[39m                                       \u001b[32m298\u001b[39m,\u001b[32m310\u001b[39m,\u001b[32m335\u001b[39m,\u001b[32m351\u001b[39m,\u001b[32m354\u001b[39m,\u001b[32m390\u001b[39m,\u001b[32m393\u001b[39m,\u001b[32m401\u001b[39m,\u001b[32m403\u001b[39m,\u001b[32m439\u001b[39m,\u001b[32m442\u001b[39m,\u001b[32m457\u001b[39m,\u001b[32m466\u001b[39m,\u001b[32m489\u001b[39m,\u001b[32m510\u001b[39m,\u001b[32m512\u001b[39m,\n\u001b[32m      8\u001b[39m                                       \u001b[32m514\u001b[39m,\u001b[32m524\u001b[39m,\u001b[32m530\u001b[39m,\u001b[32m531\u001b[39m,\u001b[32m543\u001b[39m,\u001b[32m546\u001b[39m,\u001b[32m554\u001b[39m,\u001b[32m565\u001b[39m,\u001b[32m573\u001b[39m,\u001b[32m580\u001b[39m,\u001b[32m587\u001b[39m,\u001b[32m588\u001b[39m,\u001b[32m591\u001b[39m],\n\u001b[32m      9\u001b[39m         score_thresh = \u001b[32m0.05\u001b[39m,\n\u001b[32m     10\u001b[39m         iou_thresh = \u001b[32m0.25\u001b[39m,\n\u001b[32m     11\u001b[39m         scales = [\u001b[32m0.7071\u001b[39m, \u001b[32m1.0\u001b[39m, \u001b[32m1.4142\u001b[39m],\n\u001b[32m     12\u001b[39m         mean = [\u001b[32m0.485\u001b[39m, \u001b[32m0.456\u001b[39m, \u001b[32m0.406\u001b[39m],\n\u001b[32m     13\u001b[39m         std  = [\u001b[32m0.229\u001b[39m, \u001b[32m0.224\u001b[39m, \u001b[32m0.225\u001b[39m],\n\u001b[32m     14\u001b[39m         rgem_pr = \u001b[32m2.5\u001b[39m,\n\u001b[32m     15\u001b[39m         rgem_size = \u001b[32m5\u001b[39m,\n\u001b[32m     16\u001b[39m         gem_p = \u001b[32m4.6\u001b[39m,\n\u001b[32m     17\u001b[39m         sgem_ps = \u001b[32m10.0\u001b[39m,\n\u001b[32m     18\u001b[39m         sgem_infinity = \u001b[38;5;28;01mFalse\u001b[39;00m,\n\u001b[32m     19\u001b[39m         eps = \u001b[32m1e-8\u001b[39m,\n\u001b[32m     20\u001b[39m         topk = \u001b[32m5\u001b[39m,\n\u001b[32m     21\u001b[39m         min_sim = \u001b[32m0.8\u001b[39m,\n\u001b[32m     22\u001b[39m         min_votes = \u001b[32m0.55\u001b[39m,\n\u001b[32m     23\u001b[39m         remove_inner_boxes = \u001b[32m0.85\u001b[39m,\n\u001b[32m     24\u001b[39m         join_boxes = \u001b[38;5;28;01mTrue\u001b[39;00m\n\u001b[32m     25\u001b[39m )\n",
      "\u001b[36mFile \u001b[39m\u001b[32m~\\Documents\\GitHub\\landmark-detection-with-retrieval\\landmark_detection\\pipeline.py:162\u001b[39m, in \u001b[36mPipeline_Yolo_CVNet_SG.__init__\u001b[39m\u001b[34m(self, detector_file, extractor_onnx_file, searcher_onnx_file, pipeline_onnx_file, image_dim, orig_size, allowed_classes, score_thresh, iou_thresh, scales, mean, std, rgem_pr, rgem_size, gem_p, sgem_ps, sgem_infinity, eps, topk, min_sim, min_votes, remove_inner_boxes, join_boxes)\u001b[39m\n\u001b[32m    159\u001b[39m \u001b[38;5;28;01melse\u001b[39;00m:\n\u001b[32m    160\u001b[39m     pipeline_onnx_path = pipeline_onnx_file\n\u001b[32m--> \u001b[39m\u001b[32m162\u001b[39m \u001b[38;5;28mself\u001b[39m._export_pipeline(\n\u001b[32m    163\u001b[39m     preprocess_onnx_path,\n\u001b[32m    164\u001b[39m     detector_onnx_path,\n\u001b[32m    165\u001b[39m     extractor_onnx_path,\n\u001b[32m    166\u001b[39m     searcher_onnx_path,\n\u001b[32m    167\u001b[39m     postprocess_onnx_path,\n\u001b[32m    168\u001b[39m     pipeline_onnx_path,\n\u001b[32m    169\u001b[39m )\n\u001b[32m    171\u001b[39m \u001b[38;5;28;01mif\u001b[39;00m os.path.exists(preprocess_onnx_path):\n\u001b[32m    172\u001b[39m     os.remove(preprocess_onnx_path)\n",
      "\u001b[36mFile \u001b[39m\u001b[32m~\\Documents\\GitHub\\landmark-detection-with-retrieval\\landmark_detection\\pipeline.py:712\u001b[39m, in \u001b[36mPipeline_Yolo_CVNet_SG._export_pipeline\u001b[39m\u001b[34m(self, preprocess_onnx_path, detector_onnx_path, extractor_onnx_path, searcher_onnx_path, postprocess_onnx_path, pipeline_onnx_path)\u001b[39m\n\u001b[32m    704\u001b[39m \u001b[38;5;28mprint\u001b[39m(ext_outputs)\n\u001b[32m    705\u001b[39m \u001b[38;5;28mprint\u001b[39m(ser_inputs)\n\u001b[32m    707\u001b[39m merged_pdes = compose.merge_models(\n\u001b[32m    708\u001b[39m     merged_pde,\n\u001b[32m    709\u001b[39m     searcher_onnx,\n\u001b[32m    710\u001b[39m     io_map=[\n\u001b[32m    711\u001b[39m         (ext_outputs[\u001b[32m0\u001b[39m], ser_inputs[\u001b[32m0\u001b[39m]),\n\u001b[32m--> \u001b[39m\u001b[32m712\u001b[39m         (ext_outputs[\u001b[32m1\u001b[39m], ser_inputs[\u001b[32m1\u001b[39m]),\n\u001b[32m    713\u001b[39m         (ext_outputs[\u001b[32m2\u001b[39m], ser_inputs[\u001b[32m3\u001b[39m]),\n\u001b[32m    714\u001b[39m         (ext_outputs[\u001b[32m3\u001b[39m], ser_inputs[\u001b[32m2\u001b[39m]),\n\u001b[32m    715\u001b[39m     ],\n\u001b[32m    716\u001b[39m )\n\u001b[32m    718\u001b[39m \u001b[38;5;66;03m# Searcher -> Postprocess\u001b[39;00m\n\u001b[32m    719\u001b[39m ser_outputs = [o.name \u001b[38;5;28;01mfor\u001b[39;00m o \u001b[38;5;129;01min\u001b[39;00m searcher_onnx.graph.output]\n",
      "\u001b[31mIndexError\u001b[39m: list index out of range"
     ]
    }
   ],
   "source": [
    "pipeline = Pipeline_Yolo_CVNet_SG(\n",
    "        detector_file = \"yolov8n-oiv7.pt\",\n",
    "        extractor_onnx_file = \"cvnet-sg-v1.onnx\",\n",
    "        pipeline_onnx_file = \"pipeline-yolo-cvnet-sg-v1.onnx\",\n",
    "        image_dim = (640, 640),\n",
    "        allowed_classes = [41,68,70,74,87,95,113,144,150,158,164,165,193,205,212,224,257,\n",
    "                                      298,310,335,351,354,390,393,401,403,439,442,457,466,489,510,512,\n",
    "                                      514,524,530,531,543,546,554,565,573,580,587,588,591],\n",
    "        score_thresh = 0.05,\n",
    "        iou_thresh = 0.25,\n",
    "        scales = [0.7071, 1.0, 1.4142],\n",
    "        mean = [0.485, 0.456, 0.406],\n",
    "        std  = [0.229, 0.224, 0.225],\n",
    "        rgem_pr = 2.5,\n",
    "        rgem_size = 5,\n",
    "        gem_p = 4.6,\n",
    "        sgem_ps = 10.0,\n",
    "        sgem_infinity = False,\n",
    "        eps = 1e-8,\n",
    "        topk = 5,\n",
    "        min_sim = 0.8,\n",
    "        min_votes = 0.55,\n",
    "        remove_inner_boxes = 0.85,\n",
    "        join_boxes = True\n",
    ")"
   ]
  },
  {
   "cell_type": "code",
   "execution_count": null,
   "id": "7c2602f3-b810-40d6-aba5-8a5e9a22bd46",
   "metadata": {},
   "outputs": [],
   "source": [
    "TEST_IMG_PATH = os.path.join(\"test_images\", \"caceres.jpg\")\n",
    "TEST_PLACES_DB = os.path.join(\"landmark_detection\", \"test_data\", \"test_places_db.pkl\")\n",
    "DATASETS_PATH = os.path.abspath(\"datasets\")\n",
    "CACERES_LANDMARK_NAMES_PATH = os.path.join(DATASETS_PATH, \"caceres\", \"caceres_landmarks.yaml\")\n",
    "\n",
    "with open(TEST_PLACES_DB, 'rb') as f:\n",
    "    places_db = pickle.load(f)\n",
    "    \n",
    "final_boxes, final_scores, final_classes = pipeline.run(TEST_IMG_PATH, places_db)"
   ]
  },
  {
   "cell_type": "code",
   "execution_count": null,
   "id": "dbe0159c-5b21-4cc3-bcb3-166f2db7927c",
   "metadata": {},
   "outputs": [],
   "source": [
    "show_bboxes(TEST_IMG_PATH, CACERES_LANDMARK_NAMES_PATH, final_boxes, final_classes, final_scores)"
   ]
  }
 ],
 "metadata": {
  "kernelspec": {
   "display_name": "Python 3 (ipykernel)",
   "language": "python",
   "name": "python3"
  },
  "language_info": {
   "codemirror_mode": {
    "name": "ipython",
    "version": 3
   },
   "file_extension": ".py",
   "mimetype": "text/x-python",
   "name": "python",
   "nbconvert_exporter": "python",
   "pygments_lexer": "ipython3",
   "version": "3.11.11"
  }
 },
 "nbformat": 4,
 "nbformat_minor": 5
}

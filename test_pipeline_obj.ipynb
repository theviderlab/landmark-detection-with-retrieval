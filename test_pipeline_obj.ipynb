{
 "cells": [
  {
   "cell_type": "code",
   "execution_count": 1,
   "id": "fa43cae8-7259-4b01-ab1e-14b3ab1a0213",
   "metadata": {},
   "outputs": [],
   "source": [
    "from landmark_detection.pipeline import Pipeline_Yolo_CVNet_SG\n",
    "import os"
   ]
  },
  {
   "cell_type": "code",
   "execution_count": 2,
   "id": "e1ab7274-2ceb-4a96-87ac-86f8bd753b7c",
   "metadata": {},
   "outputs": [
    {
     "name": "stdout",
     "output_type": "stream",
     "text": [
      "Creando versión ONNX del detector\n",
      "Ultralytics 8.3.146  Python-3.11.11 torch-2.7.0+cpu CPU (Intel Core(TM) i5-9300HF 2.40GHz)\n",
      "YOLOv8n summary (fused): 72 layers, 3,492,527 parameters, 0 gradients, 10.5 GFLOPs\n",
      "\n",
      "\u001b[34m\u001b[1mPyTorch:\u001b[0m starting from 'C:\\Users\\rdiaz\\Documents\\GitHub\\landmark-detection-with-retrieval\\landmark_detection\\models\\yolov8n-oiv7.pt' with input shape (1, 3, 640, 640) BCHW and output shape(s) (1, 605, 8400) (6.9 MB)\n",
      "\n",
      "\u001b[34m\u001b[1mONNX:\u001b[0m starting export with onnx 1.17.0 opset 16...\n",
      "\u001b[34m\u001b[1mONNX:\u001b[0m slimming with onnxslim 0.1.54...\n",
      "\u001b[34m\u001b[1mONNX:\u001b[0m export success  2.6s, saved as 'C:\\Users\\rdiaz\\Documents\\GitHub\\landmark-detection-with-retrieval\\landmark_detection\\models\\yolov8n-oiv7.onnx' (13.5 MB)\n",
      "\n",
      "Export complete (3.5s)\n",
      "Results saved to \u001b[1mC:\\Users\\rdiaz\\Documents\\GitHub\\landmark-detection-with-retrieval\\landmark_detection\\models\u001b[0m\n",
      "Predict:         yolo predict task=detect model=C:\\Users\\rdiaz\\Documents\\GitHub\\landmark-detection-with-retrieval\\landmark_detection\\models\\yolov8n-oiv7.onnx imgsz=640  \n",
      "Validate:        yolo val task=detect model=C:\\Users\\rdiaz\\Documents\\GitHub\\landmark-detection-with-retrieval\\landmark_detection\\models\\yolov8n-oiv7.onnx imgsz=640 data=/usr/src/ultralytics/ultralytics/cfg/datasets/open-images-v7.yaml  \n",
      "Visualize:       https://netron.app\n",
      "Instanciando el detector\n",
      "Creando versión ONNX del extractor\n",
      "Creando versión ONNX del pipeline completo\n",
      "Instanciando el extractor\n",
      "Instanciando el pipeline completo\n"
     ]
    }
   ],
   "source": [
    "pipeline = Pipeline_Yolo_CVNet_SG(\n",
    "        detector_file = \"yolov8n-oiv7.pt\",\n",
    "        extractor_onnx_file = \"cvnet-sg-2.onnx\",\n",
    "        pipeline_onnx_file = \"pipeline-yolo-cvnet-sg-2.onnx\",\n",
    "        image_dim = (640, 640),\n",
    "        allowed_classes = [41,68,70,74,87,95,113,144,150,158,164,165,193,205,212,224,257,\n",
    "                                      298,310,335,351,354,390,393,401,403,439,442,457,466,489,510,512,\n",
    "                                      514,524,530,531,543,546,554,565,573,580,587,588,591],\n",
    "        score_thresh = 0.10,\n",
    "        iou_thresh = 0.45,\n",
    "        scales = [0.7071, 1.0, 1.4142],\n",
    "        mean = [0.485, 0.456, 0.406],\n",
    "        std = [0.229, 0.224, 0.225]\n",
    ")"
   ]
  },
  {
   "cell_type": "code",
   "execution_count": 3,
   "id": "393138f5-8944-421b-8663-7ad4322360f3",
   "metadata": {},
   "outputs": [],
   "source": [
    "IMAGE_PATH = os.path.join(\"landmark_detection\", \"test_images\", \"test.jpg\")"
   ]
  },
  {
   "cell_type": "code",
   "execution_count": 4,
   "id": "c673aa44-d0f7-400e-850c-398ae9c721a9",
   "metadata": {},
   "outputs": [],
   "source": [
    "detections, img = pipeline.detect(IMAGE_PATH)"
   ]
  },
  {
   "cell_type": "code",
   "execution_count": 5,
   "id": "4fbb634b-d08e-4a15-9a8e-9a384d1c3ea0",
   "metadata": {},
   "outputs": [
    {
     "data": {
      "text/plain": [
       "(1, 605, 8400)"
      ]
     },
     "execution_count": 5,
     "metadata": {},
     "output_type": "execute_result"
    }
   ],
   "source": [
    "detections.shape"
   ]
  },
  {
   "cell_type": "code",
   "execution_count": 6,
   "id": "d42fd78a-61c3-4946-8744-4bea84191d8e",
   "metadata": {},
   "outputs": [],
   "source": [
    "final_boxes, final_scores, final_classes, descriptors = pipeline.extract(img, detections)"
   ]
  },
  {
   "cell_type": "code",
   "execution_count": 7,
   "id": "66c64dd3-1266-4502-9e2a-8a3bf6f24bc3",
   "metadata": {},
   "outputs": [
    {
     "data": {
      "text/plain": [
       "array([[          0,           0,         639,         639],\n",
       "       [     2.0309,       238.7,      635.17,      585.75],\n",
       "       [     354.21,      241.35,      406.43,       373.2],\n",
       "       [     127.61,      334.49,      205.89,      395.76],\n",
       "       [     533.38,      177.76,      627.12,       442.1]], dtype=float32)"
      ]
     },
     "execution_count": 7,
     "metadata": {},
     "output_type": "execute_result"
    }
   ],
   "source": [
    "final_boxes"
   ]
  },
  {
   "cell_type": "code",
   "execution_count": 8,
   "id": "1d881d19-32df-44ef-a02b-5aa36afd1b91",
   "metadata": {},
   "outputs": [
    {
     "data": {
      "text/plain": [
       "array([          1,     0.21503,     0.16431,     0.14933,     0.11897], dtype=float32)"
      ]
     },
     "execution_count": 8,
     "metadata": {},
     "output_type": "execute_result"
    }
   ],
   "source": [
    "final_scores"
   ]
  },
  {
   "cell_type": "code",
   "execution_count": 9,
   "id": "7d70ce16-b8f5-413c-ba01-3e9ffbea378f",
   "metadata": {},
   "outputs": [
    {
     "data": {
      "text/plain": [
       "array([  0, 257, 546, 257, 546])"
      ]
     },
     "execution_count": 9,
     "metadata": {},
     "output_type": "execute_result"
    }
   ],
   "source": [
    "final_classes"
   ]
  },
  {
   "cell_type": "code",
   "execution_count": 10,
   "id": "27db0293-1574-4897-808f-da15b2e18461",
   "metadata": {},
   "outputs": [
    {
     "data": {
      "text/plain": [
       "(5, 2048)"
      ]
     },
     "execution_count": 10,
     "metadata": {},
     "output_type": "execute_result"
    }
   ],
   "source": [
    "descriptors.shape"
   ]
  },
  {
   "cell_type": "code",
   "execution_count": 11,
   "id": "78e57b66-8316-49f6-8999-2afc1f52b79f",
   "metadata": {},
   "outputs": [
    {
     "data": {
      "text/plain": [
       "array([[   0.010576,    0.017447,   0.0038731, ...,    0.016022,    0.019857,    0.011175],\n",
       "       [  0.0042523,    0.031169,   0.0084759, ...,    0.010717,    0.018144,      0.0149],\n",
       "       [   0.020416,   0.0067652,    0.012238, ...,    0.026342,    0.011236,   0.0022186],\n",
       "       [  0.0058663,    0.079122,     0.01575, ...,    0.013712,    0.032906,   0.0054238],\n",
       "       [   0.020339,   0.0049178,    0.025916, ...,   0.0045935,   0.0046325,   0.0085385]], dtype=float32)"
      ]
     },
     "execution_count": 11,
     "metadata": {},
     "output_type": "execute_result"
    }
   ],
   "source": [
    "descriptors"
   ]
  }
 ],
 "metadata": {
  "kernelspec": {
   "display_name": "Python 3 (ipykernel)",
   "language": "python",
   "name": "python3"
  },
  "language_info": {
   "codemirror_mode": {
    "name": "ipython",
    "version": 3
   },
   "file_extension": ".py",
   "mimetype": "text/x-python",
   "name": "python",
   "nbconvert_exporter": "python",
   "pygments_lexer": "ipython3",
   "version": "3.11.11"
  }
 },
 "nbformat": 4,
 "nbformat_minor": 5
}

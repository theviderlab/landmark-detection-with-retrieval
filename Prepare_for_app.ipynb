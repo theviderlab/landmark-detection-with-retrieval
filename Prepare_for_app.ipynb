{
 "cells": [
  {
   "cell_type": "code",
   "execution_count": 1,
   "id": "34464148-0ce9-4c1f-a685-1f3adb892ee2",
   "metadata": {},
   "outputs": [],
   "source": [
    "from landmark_detection.utils import export_places_db, load_names_from_yaml\n",
    "from landmark_detection.pipeline import Pipeline_Landmark_Detection\n",
    "import os\n",
    "import pandas as pd"
   ]
  },
  {
   "cell_type": "code",
   "execution_count": 2,
   "id": "0fa143b8-de79-412b-b479-381b04f9627f",
   "metadata": {},
   "outputs": [],
   "source": [
    "VERSION = 'app'\n",
    "\n",
    "# DATABASE\n",
    "force_rebuild = True\n",
    "save_every = 500\n",
    "min_area = 0.0\n",
    "min_sim_db = 0.0\n",
    "\n",
    "# PIPELINE\n",
    "detector_file = \"yolov8n-oiv7.pt\"\n",
    "extractor_onnx_file = \"cvnet-sg-v\" + str(VERSION) + \".onnx\"\n",
    "pipeline_onnx_file = \"pipeline-yolo-cvnet-sg-v\" + str(VERSION) + \".onnx\"\n",
    "image_dim = (640, 640)\n",
    "allowed_classes = [41,68,70,74,87,95,113,144,150,158,164,165,193,205,212,224,257,\n",
    "                              298,310,335,351,354,390,393,401,403,439,442,457,466,489,510,512,\n",
    "                              514,524,530,531,543,546,554,565,573,580,588,591]\n",
    "score_thresh = 0.05\n",
    "iou_thresh = 0.25\n",
    "scales = [0.7071, 1.0, 1.4142]\n",
    "mean = [0.485, 0.456, 0.406]\n",
    "std  = [0.229, 0.224, 0.225]\n",
    "rgem_pr = 2.5\n",
    "rgem_size = 5\n",
    "gem_p = 4.6\n",
    "sgem_ps = 10.0\n",
    "sgem_infinity = False\n",
    "eps = 1e-8\n",
    "topk = 10\n",
    "min_sim = 0.70\n",
    "min_votes = 0.60\n",
    "remove_inner_boxes = 0.5\n",
    "join_boxes = True"
   ]
  },
  {
   "cell_type": "code",
   "execution_count": 3,
   "id": "11a8fde8-53ba-4712-ace8-93becb72d6e0",
   "metadata": {},
   "outputs": [
    {
     "name": "stdout",
     "output_type": "stream",
     "text": [
      "Creando versión ONNX del preprocess\n",
      "Instanciando el preprocessor\n",
      "Creando versión ONNX del detector\n",
      "Ultralytics 8.3.146  Python-3.11.11 torch-2.7.0+cpu CPU (Intel Core(TM) i5-9300HF 2.40GHz)\n",
      "YOLOv8n summary (fused): 72 layers, 3,492,527 parameters, 0 gradients, 10.5 GFLOPs\n",
      "\n",
      "\u001b[34m\u001b[1mPyTorch:\u001b[0m starting from 'C:\\Users\\rdiaz\\Documents\\GitHub\\landmark-detection-with-retrieval\\landmark_detection\\models\\yolov8n-oiv7.pt' with input shape (1, 3, 640, 640) BCHW and output shape(s) (1, 605, 8400) (6.9 MB)\n",
      "\n",
      "\u001b[34m\u001b[1mONNX:\u001b[0m starting export with onnx 1.17.0 opset 16...\n",
      "\u001b[34m\u001b[1mONNX:\u001b[0m slimming with onnxslim 0.1.54...\n",
      "\u001b[34m\u001b[1mONNX:\u001b[0m export success  5.2s, saved as 'C:\\Users\\rdiaz\\Documents\\GitHub\\landmark-detection-with-retrieval\\landmark_detection\\models\\yolov8n-oiv7.onnx' (13.5 MB)\n",
      "\n",
      "Export complete (8.1s)\n",
      "Results saved to \u001b[1mC:\\Users\\rdiaz\\Documents\\GitHub\\landmark-detection-with-retrieval\\landmark_detection\\models\u001b[0m\n",
      "Predict:         yolo predict task=detect model=C:\\Users\\rdiaz\\Documents\\GitHub\\landmark-detection-with-retrieval\\landmark_detection\\models\\yolov8n-oiv7.onnx imgsz=640  \n",
      "Validate:        yolo val task=detect model=C:\\Users\\rdiaz\\Documents\\GitHub\\landmark-detection-with-retrieval\\landmark_detection\\models\\yolov8n-oiv7.onnx imgsz=640 data=/usr/src/ultralytics/ultralytics/cfg/datasets/open-images-v7.yaml  \n",
      "Visualize:       https://netron.app\n",
      "Instanciando el detector\n",
      "Creando versión ONNX del extractor\n",
      "Instanciando el extractor\n",
      "Creando versión ONNX del searcher\n",
      "Instanciando el searcher\n",
      "Creando versión ONNX del postprocess\n",
      "Instanciando el postprocessor\n",
      "Creando versión ONNX del pipeline completo\n",
      "Instanciando el pipeline completo\n"
     ]
    }
   ],
   "source": [
    "pipeline = Pipeline_Landmark_Detection(\n",
    "        detector_file = detector_file,\n",
    "        extractor_onnx_file = extractor_onnx_file,\n",
    "        pipeline_onnx_file = pipeline_onnx_file,\n",
    "        image_dim = image_dim,\n",
    "        allowed_classes = allowed_classes,\n",
    "        score_thresh = score_thresh,\n",
    "        iou_thresh = iou_thresh,\n",
    "        scales = scales,\n",
    "        mean = mean,\n",
    "        std = std,\n",
    "        rgem_pr = rgem_pr,\n",
    "        rgem_size = rgem_size,\n",
    "        gem_p = gem_p,\n",
    "        sgem_ps = sgem_ps,\n",
    "        sgem_infinity = sgem_infinity,\n",
    "        eps = eps,\n",
    "        topk = topk,\n",
    "        min_sim = min_sim,\n",
    "        min_votes = min_votes,\n",
    "        remove_inner_boxes = remove_inner_boxes,\n",
    "        join_boxes = join_boxes\n",
    ")"
   ]
  },
  {
   "cell_type": "code",
   "execution_count": 4,
   "id": "e2a0d1d8-e874-418d-9f63-70d5feafda50",
   "metadata": {},
   "outputs": [],
   "source": [
    "# Paths\n",
    "CLASS_NAMES_PATH = os.path.join(\"oiv7.yaml\")\n",
    "PIPELINE_CONFIG_PATH = os.path.join(\"configs\", \"pipeline-yolo-cvnet-sg-v\" + str(VERSION))\n",
    "DATASETS_PATH = os.path.abspath(\"datasets\")\n",
    "APP_PATH = os.path.join(\"android_app\", \"app\", \"src\", \"main\", \"assets\")\n",
    "\n",
    "# Dataset Cáceres\n",
    "CACERES_LANDMARK_NAMES_PATH = os.path.join(DATASETS_PATH, \"caceres\", \"caceres_landmarks.yaml\")\n",
    "CACERES_PATH = os.path.join(DATASETS_PATH, \"caceres\", \"jpg\")\n",
    "CACERES_CSV = os.path.join(DATASETS_PATH, \"caceres\", \"caceres_dataset.csv\")\n",
    "CACERES_LANDMARKS = os.path.join(DATASETS_PATH, \"caceres\", \"caceres_landmarks.csv\")\n",
    "CACERES_DF = os.path.join(DATASETS_PATH, \"caceres\", \"results\", \"df_caceres-v\" + str(VERSION) + \".pkl\")\n",
    "CACERES_DESC = os.path.join(DATASETS_PATH, \"caceres\", \"results\", \"desc_caceres-v\" + str(VERSION) + \".pkl\")\n",
    "CACERES_PLACES_DB = os.path.join(\"landmark_detection\", \"test_data\", \"test_places_db.pkl\")"
   ]
  },
  {
   "cell_type": "code",
   "execution_count": 5,
   "id": "709119a5-58e6-499d-a066-a989d1801a42",
   "metadata": {},
   "outputs": [],
   "source": [
    "caceres_dataset = pd.read_csv(CACERES_CSV)\n",
    "caceres_landmarks = pd.read_csv(CACERES_LANDMARKS)"
   ]
  },
  {
   "cell_type": "code",
   "execution_count": 6,
   "id": "c8c32725-b181-492c-9f00-767c68eb0509",
   "metadata": {},
   "outputs": [
    {
     "name": "stderr",
     "output_type": "stream",
     "text": [
      "Procesando imágenes: 0it [00:00, ?it/s]\n"
     ]
    }
   ],
   "source": [
    "# Build/load Cáceres dataset\n",
    "df_result_cac, descriptors_final_cac, places_db_cac = pipeline.build_image_database(\n",
    "    image_folder = CACERES_PATH,\n",
    "    df_pickle_path = CACERES_DF,\n",
    "    descriptor_pickle_path = CACERES_DESC,\n",
    "    image_place_ids = caceres_dataset,\n",
    "    return_places_db = True,\n",
    "    force_rebuild = False,\n",
    "    save_every = save_every,\n",
    "    min_area = min_area,\n",
    "    min_sim = min_sim_db\n",
    ")"
   ]
  },
  {
   "cell_type": "code",
   "execution_count": 7,
   "id": "81110b7f-8bf8-462a-8d16-6deeee5cce5e",
   "metadata": {},
   "outputs": [],
   "source": [
    "class_names = load_names_from_yaml(CACERES_LANDMARK_NAMES_PATH, as_dict=True)"
   ]
  },
  {
   "cell_type": "code",
   "execution_count": 8,
   "id": "b5d5a550-fb97-4a9f-988d-1a618130185e",
   "metadata": {},
   "outputs": [],
   "source": [
    "export_places_db(places_db=places_db_cac, label_map=class_names, output_dir=APP_PATH)"
   ]
  }
 ],
 "metadata": {
  "kernelspec": {
   "display_name": "Python 3 (ipykernel)",
   "language": "python",
   "name": "python3"
  },
  "language_info": {
   "codemirror_mode": {
    "name": "ipython",
    "version": 3
   },
   "file_extension": ".py",
   "mimetype": "text/x-python",
   "name": "python",
   "nbconvert_exporter": "python",
   "pygments_lexer": "ipython3",
   "version": "3.11.11"
  }
 },
 "nbformat": 4,
 "nbformat_minor": 5
}

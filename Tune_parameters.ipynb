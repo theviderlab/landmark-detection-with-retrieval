{
 "cells": [
  {
   "cell_type": "code",
   "execution_count": 1,
   "id": "f375db5f-d9c8-4837-9f80-6b198b422cbd",
   "metadata": {},
   "outputs": [],
   "source": [
    "from landmark_detection.pipeline import Pipeline_Landmark_Detection\n",
    "from landmark_detection.utils import show_image, show_bboxes, show_similarity_search\n",
    "from benchmark.revisitop.evaluate import compute_map\n",
    "from benchmark.revisitop.dataset import configdataset\n",
    "from benchmark.evaluation import run_evaluation, run_evaluation2, show_inference_example\n",
    "\n",
    "import os\n",
    "import pandas as pd\n",
    "import pickle\n",
    "import numpy as np\n",
    "import torch"
   ]
  },
  {
   "cell_type": "code",
   "execution_count": 4,
   "id": "844d9b9a-abd4-44a3-8d87-641d6be5c30c",
   "metadata": {},
   "outputs": [],
   "source": [
    "VERSION = 0\n",
    "\n",
    "force_rebuild = True\n",
    "save_every = 500\n",
    "config = {\n",
    "    'version': VERSION,\n",
    "    \n",
    "    # DATABASE\n",
    "    'min_area': 0.0,\n",
    "    'min_sim_db': 0.0,\n",
    "    \n",
    "    # PIPELINE\n",
    "    'detector_file': \"yolov8n-oiv7.pt\",\n",
    "    'extractor_onnx_file': \"cvnet-sg-v\" + str(VERSION) + \".onnx\",\n",
    "    'pipeline_onnx_file': \"pipeline-yolo-cvnet-sg-v\" + str(VERSION) + \".onnx\",\n",
    "    'image_dim': (640, 640),\n",
    "    'allowed_classes': [41,68,70,74,87,95,113,144,150,158,164,165,193,205,212,224,257,\n",
    "                                  298,310,335,351,354,390,393,401,403,439,442,457,466,489,510,512,\n",
    "                                  514,524,530,531,543,546,554,565,573,580,588,591],\n",
    "    'score_thresh': 0.05,\n",
    "    'iou_thresh': 0.25,\n",
    "    'scales': [0.7071, 1.0, 1.4142],\n",
    "    'mean': [0.485, 0.456, 0.406],\n",
    "    'std': [0.229, 0.224, 0.225],\n",
    "    'rgem_pr': 2.5,\n",
    "    'rgem_size': 5,\n",
    "    'gem_p': 4.6,\n",
    "    'sgem_ps': 10.0,\n",
    "    'sgem_infinity': False,\n",
    "    'eps': 1e-8,\n",
    "}\n",
    "topk = 10\n",
    "min_sim = 0.70\n",
    "min_votes = 0.60\n",
    "remove_inner_boxes = 0.5\n",
    "join_boxes = True"
   ]
  },
  {
   "cell_type": "code",
   "execution_count": 6,
   "id": "47860aec-f873-4c73-97ea-6efe19158e6f",
   "metadata": {},
   "outputs": [],
   "source": [
    "# Fixed Paths\n",
    "CLASS_NAMES_PATH = os.path.join(\"oiv7.yaml\")\n",
    "DATASETS_PATH = os.path.abspath(\"datasets\")\n",
    "ROXFORD5K_PATH = os.path.join(DATASETS_PATH, \"roxford5k\", \"jpg\")\n",
    "ROXFORD5K_PKL = os.path.join(DATASETS_PATH, \"roxford5k\", \"gnd_roxford5k.pkl\")\n",
    "ROXFORD5K_CSV = os.path.join(DATASETS_PATH, \"roxford5k\", \"roxford5k_image_data.csv\")"
   ]
  },
  {
   "cell_type": "code",
   "execution_count": 7,
   "id": "b21737ac-b65c-4b1f-a6a0-5fe8b09a581c",
   "metadata": {},
   "outputs": [],
   "source": [
    "cfg = configdataset('roxford5k', DATASETS_PATH)"
   ]
  },
  {
   "cell_type": "code",
   "execution_count": 8,
   "id": "57814ef4-6954-4f0f-b631-1acc30487b4c",
   "metadata": {},
   "outputs": [],
   "source": [
    "PIPELINE_CONFIG_PATH = os.path.join(\"configs\", \"pipeline-yolo-cvnet-sg-v\" + str(VERSION))\n",
    "\n",
    "# Dataset Oxford\n",
    "ROXFORD5K_DF = os.path.join(DATASETS_PATH, \"roxford5k\", \"results\", \"df_roxford5k-v\" + str(VERSION) + \".pkl\")\n",
    "ROXFORD5K_DESC = os.path.join(DATASETS_PATH, \"roxford5k\", \"results\", \"desc_roxford5k-v\" + str(VERSION) + \".pkl\")"
   ]
  },
  {
   "cell_type": "code",
   "execution_count": null,
   "id": "13727274-5ab4-4d23-9a5f-e0407e5762a9",
   "metadata": {},
   "outputs": [],
   "source": [
    "pipeline = Pipeline_Landmark_Detection(\n",
    "        detector_file = config['detector_file'],\n",
    "        extractor_onnx_file = config['extractor_onnx_file'],\n",
    "        pipeline_onnx_file = config['pipeline_onnx_file'],\n",
    "        image_dim = config['image_dim'],\n",
    "        allowed_classes = config['allowed_classes'],\n",
    "        score_thresh = config['score_thresh'],\n",
    "        iou_thresh = config['iou_thresh'],\n",
    "        scales = config['scales'],\n",
    "        mean = config['mean'],\n",
    "        std = config['std'],\n",
    "        rgem_pr = config['rgem_pr'],\n",
    "        rgem_size = config['rgem_size'],\n",
    "        gem_p = config['gem_p'],\n",
    "        sgem_ps = config['sgem_ps'],\n",
    "        sgem_infinity = config['sgem_infinity'],\n",
    "        eps = config['eps'],\n",
    "        topk = topk,\n",
    "        min_sim = min_sim,\n",
    "        min_votes = min_votes,\n",
    "        remove_inner_boxes = remove_inner_boxes,\n",
    "        join_boxes = join_boxes\n",
    ")\n",
    "pipeline.to_json(PIPELINE_CONFIG_PATH)"
   ]
  },
  {
   "cell_type": "code",
   "execution_count": null,
   "id": "aed32c84-0302-4616-8bf0-c61da85bfb90",
   "metadata": {},
   "outputs": [],
   "source": [
    "# Build/load roxford5k dataset\n",
    "df_result_ox, descriptors_final_ox, places_db_ox = pipeline.build_image_database(\n",
    "    image_folder = ROXFORD5K_PATH,\n",
    "    df_pickle_path = ROXFORD5K_DF,\n",
    "    descriptor_pickle_path = ROXFORD5K_DESC,\n",
    "    return_places_db = True,\n",
    "    force_rebuild = force_rebuild,\n",
    "    save_every = save_every,\n",
    "    min_area = min_area,\n",
    "    min_sim = min_sim_db\n",
    ")"
   ]
  },
  {
   "cell_type": "code",
   "execution_count": null,
   "id": "47ab4d93-0e8c-4183-95ea-63b097d299e7",
   "metadata": {},
   "outputs": [],
   "source": [
    "# Evaluate roxford5k\n",
    "roxford5k_eval = run_evaluation2(df_result_ox, places_db_ox, 'roxford5k')"
   ]
  },
  {
   "cell_type": "code",
   "execution_count": null,
   "id": "e9eb9d00-a143-4beb-aa8e-844ebd047b74",
   "metadata": {},
   "outputs": [],
   "source": [
    "# Evaluate roxford5k with bbox\n",
    "roxford5k_eval_bbox = run_evaluation2(df_result_ox, places_db_ox, 'roxford5k', use_bbox=True)"
   ]
  }
 ],
 "metadata": {
  "kernelspec": {
   "display_name": "Python 3 (ipykernel)",
   "language": "python",
   "name": "python3"
  },
  "language_info": {
   "codemirror_mode": {
    "name": "ipython",
    "version": 3
   },
   "file_extension": ".py",
   "mimetype": "text/x-python",
   "name": "python",
   "nbconvert_exporter": "python",
   "pygments_lexer": "ipython3",
   "version": "3.11.11"
  }
 },
 "nbformat": 4,
 "nbformat_minor": 5
}

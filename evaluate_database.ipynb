{
 "cells": [
  {
   "cell_type": "code",
   "execution_count": 1,
   "id": "3ed69fa5-5442-4fa2-affa-aa1a5481875b",
   "metadata": {},
   "outputs": [],
   "source": [
    "from landmark_detection.pipeline import Pipeline_Yolo_CVNet_SG\n",
    "from benchmark.database import build_image_database\n",
    "from landmark_detection.utils import show_image, show_bboxes\n",
    "from benchmark.revisitop.evaluate import compute_map\n",
    "from benchmark.revisitop.dataset import configdataset\n",
    "from benchmark.evaluation import run_evaluation\n",
    "\n",
    "import os\n",
    "import pandas as pd\n",
    "import pickle\n",
    "import numpy as np"
   ]
  },
  {
   "cell_type": "code",
   "execution_count": 2,
   "id": "f29017a2-f81c-4660-bce4-3e144a7381da",
   "metadata": {},
   "outputs": [],
   "source": [
    "VERSION = 1"
   ]
  },
  {
   "cell_type": "code",
   "execution_count": 3,
   "id": "b4dd9da8-4bf4-4e0d-b64f-6fa623eabc2e",
   "metadata": {},
   "outputs": [
    {
     "name": "stdout",
     "output_type": "stream",
     "text": [
      "Creando versión ONNX del detector\n",
      "Ultralytics 8.3.146  Python-3.11.11 torch-2.7.0+cpu CPU (Intel Core(TM) i5-9300HF 2.40GHz)\n",
      "YOLOv8n summary (fused): 72 layers, 3,492,527 parameters, 0 gradients, 10.5 GFLOPs\n",
      "\n",
      "\u001b[34m\u001b[1mPyTorch:\u001b[0m starting from 'C:\\Users\\rdiaz\\Documents\\GitHub\\landmark-detection-with-retrieval\\landmark_detection\\models\\yolov8n-oiv7.pt' with input shape (1, 3, 640, 640) BCHW and output shape(s) (1, 605, 8400) (6.9 MB)\n",
      "\n",
      "\u001b[34m\u001b[1mONNX:\u001b[0m starting export with onnx 1.17.0 opset 16...\n",
      "\u001b[34m\u001b[1mONNX:\u001b[0m slimming with onnxslim 0.1.54...\n",
      "\u001b[34m\u001b[1mONNX:\u001b[0m export success  2.1s, saved as 'C:\\Users\\rdiaz\\Documents\\GitHub\\landmark-detection-with-retrieval\\landmark_detection\\models\\yolov8n-oiv7.onnx' (13.5 MB)\n",
      "\n",
      "Export complete (2.6s)\n",
      "Results saved to \u001b[1mC:\\Users\\rdiaz\\Documents\\GitHub\\landmark-detection-with-retrieval\\landmark_detection\\models\u001b[0m\n",
      "Predict:         yolo predict task=detect model=C:\\Users\\rdiaz\\Documents\\GitHub\\landmark-detection-with-retrieval\\landmark_detection\\models\\yolov8n-oiv7.onnx imgsz=640  \n",
      "Validate:        yolo val task=detect model=C:\\Users\\rdiaz\\Documents\\GitHub\\landmark-detection-with-retrieval\\landmark_detection\\models\\yolov8n-oiv7.onnx imgsz=640 data=/usr/src/ultralytics/ultralytics/cfg/datasets/open-images-v7.yaml  \n",
      "Visualize:       https://netron.app\n",
      "Instanciando el detector\n",
      "Creando versión ONNX del extractor\n",
      "Creando versión ONNX del preprocess\n",
      "Creando versión ONNX del postprocess\n",
      "Creando versión ONNX del pipeline completo\n",
      "Instanciando el extractor\n",
      "Instanciando el pipeline completo\n"
     ]
    }
   ],
   "source": [
    "pipeline = Pipeline_Yolo_CVNet_SG(\n",
    "        detector_file = \"yolov8n-oiv7.pt\",\n",
    "        extractor_onnx_file = \"cvnet-sg-v\" + str(VERSION) + \".onnx\",\n",
    "        pipeline_onnx_file = \"pipeline-yolo-cvnet-sg-v\" + str(VERSION) + \".onnx\",\n",
    "        image_dim = (640, 640),\n",
    "        allowed_classes = [41,68,70,74,87,95,113,144,150,158,164,165,193,205,212,224,257,\n",
    "                                      298,310,335,351,354,390,393,401,403,439,442,457,466,489,510,512,\n",
    "                                      514,524,530,531,543,546,554,565,573,580,587,588,591],\n",
    "        score_thresh = 0.10,\n",
    "        iou_thresh = 0.45,\n",
    "        scales = [0.7071, 1.0, 1.4142],\n",
    "        mean = [0.485, 0.456, 0.406],\n",
    "        std  = [0.229, 0.224, 0.225],\n",
    "        rgem_pr = 2.5,\n",
    "        rgem_size = 5,\n",
    "        gem_p = 4.6,\n",
    "        sgem_ps = 10.0,\n",
    "        sgem_infinity = False,\n",
    "        eps = 1e-8  \n",
    ")"
   ]
  },
  {
   "cell_type": "code",
   "execution_count": 4,
   "id": "da35c793-f454-4c5f-af4d-9dfb3ee6204f",
   "metadata": {},
   "outputs": [],
   "source": [
    "# Paths\n",
    "CLASS_NAMES_PATH = os.path.join(\"oiv7.yaml\")\n",
    "PIPELINE_CONFIG_PATH = os.path.join(\"configs\", \"pipeline-yolo-cvnet-sg-v\" + str(VERSION))\n",
    "DATASETS_PATH = os.path.abspath(\"datasets\")\n",
    "\n",
    "# Dataset Oxford\n",
    "ROXFORD5K_PATH = os.path.join(DATASETS_PATH, \"roxford5k\", \"jpg\")\n",
    "ROXFORD5K_PKL = os.path.join(DATASETS_PATH, \"roxford5k\", \"gnd_roxford5k.pkl\")\n",
    "ROXFORD5K_CSV = os.path.join(DATASETS_PATH, \"roxford5k\", \"roxford5k_image_data.csv\")\n",
    "ROXFORD5K_DF = os.path.join(DATASETS_PATH, \"roxford5k\", \"results\", \"df_roxford5k-v\" + str(VERSION) + \".pkl\")\n",
    "ROXFORD5K_DESC = os.path.join(DATASETS_PATH, \"roxford5k\", \"results\", \"desc_roxford5k-v\" + str(VERSION) + \".pkl\")\n",
    "\n",
    "# Dataset Paris\n",
    "RPARIS6K_PATH = os.path.join(DATASETS_PATH, \"rparis6k\", \"jpg\")\n",
    "RPARIS6K_PKL = os.path.join(DATASETS_PATH, \"rparis6k\", \"gnd_rparis6k.pkl\")\n",
    "RPARIS6K_CSV = os.path.join(DATASETS_PATH, \"rparis6k\", \"rparis6k_image_data.csv\")\n",
    "RPARIS6K_DF = os.path.join(DATASETS_PATH, \"rparis6k\", \"results\", \"df_rparis6k-v\" + str(VERSION) + \".pkl\")\n",
    "RPARIS6K_DESC = os.path.join(DATASETS_PATH, \"rparis6k\", \"results\", \"desc_rparis6k-v\" + str(VERSION) + \".pkl\")"
   ]
  },
  {
   "cell_type": "code",
   "execution_count": 5,
   "id": "3e576817-2ce6-412c-9cfd-6f1c677af1a8",
   "metadata": {},
   "outputs": [
    {
     "ename": "ValueError",
     "evalue": "not enough values to unpack (expected 5, got 4)",
     "output_type": "error",
     "traceback": [
      "\u001b[31m---------------------------------------------------------------------------\u001b[39m",
      "\u001b[31mValueError\u001b[39m                                Traceback (most recent call last)",
      "\u001b[36mCell\u001b[39m\u001b[36m \u001b[39m\u001b[32mIn[5]\u001b[39m\u001b[32m, line 2\u001b[39m\n\u001b[32m      1\u001b[39m TEST_IMG_PATH = os.path.join(\u001b[33m\"\u001b[39m\u001b[33mtest_images\u001b[39m\u001b[33m\"\u001b[39m, \u001b[33m\"\u001b[39m\u001b[33mtest.jpg\u001b[39m\u001b[33m\"\u001b[39m)\n\u001b[32m----> \u001b[39m\u001b[32m2\u001b[39m final_boxes, final_scores, final_classes, descriptors, _ = pipeline.run(TEST_IMG_PATH)\n",
      "\u001b[31mValueError\u001b[39m: not enough values to unpack (expected 5, got 4)"
     ]
    }
   ],
   "source": [
    "TEST_IMG_PATH = os.path.join(\"test_images\", \"test.jpg\")\n",
    "final_boxes, final_scores, final_classes, descriptors, _ = pipeline.run(TEST_IMG_PATH)"
   ]
  },
  {
   "cell_type": "code",
   "execution_count": null,
   "id": "d8e88421-a15c-4eff-9942-cc55fa7b3631",
   "metadata": {},
   "outputs": [],
   "source": [
    "show_bboxes(TEST_IMG_PATH, CLASS_NAMES_PATH, final_boxes, final_classes, final_scores)"
   ]
  },
  {
   "cell_type": "code",
   "execution_count": null,
   "id": "a32f2f0d-ed73-4101-9c33-156a2fcd9a03",
   "metadata": {},
   "outputs": [],
   "source": [
    "pipeline.to_json(PIPELINE_CONFIG_PATH)"
   ]
  },
  {
   "cell_type": "code",
   "execution_count": null,
   "id": "f8730813-203d-417d-8da2-204b2ef2f8ba",
   "metadata": {},
   "outputs": [],
   "source": [
    "# Build/load roxford5k dataset\n",
    "df_result, descriptors_final = build_image_database(\n",
    "    pipeline,\n",
    "    image_folder = ROXFORD5K_PATH,\n",
    "    df_pickle_path = ROXFORD5K_DF,\n",
    "    descriptor_pickle_path = ROXFORD5K_DESC,\n",
    ")"
   ]
  },
  {
   "cell_type": "code",
   "execution_count": null,
   "id": "9c52e40d-3110-46a8-a37c-0a88f7df12c6",
   "metadata": {},
   "outputs": [],
   "source": [
    "# Evaluate roxford5k\n",
    "roxford5k_eval = run_evaluation(df_result, descriptors_final, 'roxford5k')"
   ]
  },
  {
   "cell_type": "code",
   "execution_count": null,
   "id": "65d8e3a0-80c5-4768-9541-61ea9f1eb6a0",
   "metadata": {},
   "outputs": [],
   "source": [
    "# Evaluate roxford5k\n",
    "roxford5k_eval = run_evaluation(df_result, descriptors_final, 'roxford5k', use_bbox=True)"
   ]
  },
  {
   "cell_type": "code",
   "execution_count": null,
   "id": "a6ddc14b-c7d5-492a-98f1-9b07c2973573",
   "metadata": {},
   "outputs": [],
   "source": [
    "# Build/load rparis6k dataset\n",
    "df_result, descriptors_final = build_image_database(\n",
    "    pipeline,\n",
    "    image_folder = RPARIS6K_PATH,\n",
    "    df_pickle_path = RPARIS6K_DF,\n",
    "    descriptor_pickle_path = RPARIS6K_DESC,\n",
    ")"
   ]
  },
  {
   "cell_type": "code",
   "execution_count": null,
   "id": "6254b56e-dc56-41a8-beae-6d0fcaca0e88",
   "metadata": {},
   "outputs": [],
   "source": [
    "# Evaluate rparis6k\n",
    "rparis6k_eval = run_evaluation(df_result, descriptors_final, 'rparis6k')"
   ]
  },
  {
   "cell_type": "code",
   "execution_count": null,
   "id": "cb390565-e80f-4c88-b646-16ab1567c847",
   "metadata": {},
   "outputs": [],
   "source": [
    "# Evaluate rparis6k\n",
    "rparis6k_eval = run_evaluation(df_result, descriptors_final, 'rparis6k', use_bbox=True)"
   ]
  }
 ],
 "metadata": {
  "kernelspec": {
   "display_name": "Python 3 (ipykernel)",
   "language": "python",
   "name": "python3"
  },
  "language_info": {
   "codemirror_mode": {
    "name": "ipython",
    "version": 3
   },
   "file_extension": ".py",
   "mimetype": "text/x-python",
   "name": "python",
   "nbconvert_exporter": "python",
   "pygments_lexer": "ipython3",
   "version": "3.11.11"
  }
 },
 "nbformat": 4,
 "nbformat_minor": 5
}

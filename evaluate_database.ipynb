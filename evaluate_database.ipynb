{
 "cells": [
  {
   "cell_type": "code",
   "execution_count": 1,
   "id": "3ed69fa5-5442-4fa2-affa-aa1a5481875b",
   "metadata": {},
   "outputs": [],
   "source": [
    "from landmark_detection.pipeline import Pipeline_Yolo_CVNet_SG\n",
    "from benchmark.database import build_image_database\n",
    "from landmark_detection.utils import show_image, show_bboxes\n",
    "from benchmark.revisitop.evaluate import compute_map\n",
    "from benchmark.revisitop.dataset import configdataset\n",
    "from benchmark.evaluation import run_evaluation\n",
    "\n",
    "import os\n",
    "import pandas as pd\n",
    "import pickle\n",
    "import numpy as np"
   ]
  },
  {
   "cell_type": "code",
   "execution_count": 2,
   "id": "f29017a2-f81c-4660-bce4-3e144a7381da",
   "metadata": {},
   "outputs": [],
   "source": [
    "VERSION = 1"
   ]
  },
  {
   "cell_type": "code",
   "execution_count": 3,
   "id": "b4dd9da8-4bf4-4e0d-b64f-6fa623eabc2e",
   "metadata": {},
   "outputs": [
    {
     "name": "stdout",
     "output_type": "stream",
     "text": [
      "Creando versión ONNX del detector\n",
      "Ultralytics 8.3.146  Python-3.11.11 torch-2.7.0+cpu CPU (Intel Core(TM) i5-9300HF 2.40GHz)\n",
      "YOLOv8n summary (fused): 72 layers, 3,492,527 parameters, 0 gradients, 10.5 GFLOPs\n",
      "\n",
      "\u001b[34m\u001b[1mPyTorch:\u001b[0m starting from 'C:\\Users\\rdiaz\\Documents\\GitHub\\landmark-detection-with-retrieval\\landmark_detection\\models\\yolov8n-oiv7.pt' with input shape (1, 3, 640, 640) BCHW and output shape(s) (1, 605, 8400) (6.9 MB)\n",
      "\n",
      "\u001b[34m\u001b[1mONNX:\u001b[0m starting export with onnx 1.17.0 opset 16...\n",
      "\u001b[34m\u001b[1mONNX:\u001b[0m slimming with onnxslim 0.1.54...\n",
      "\u001b[34m\u001b[1mONNX:\u001b[0m export success  1.4s, saved as 'C:\\Users\\rdiaz\\Documents\\GitHub\\landmark-detection-with-retrieval\\landmark_detection\\models\\yolov8n-oiv7.onnx' (13.5 MB)\n",
      "\n",
      "Export complete (1.9s)\n",
      "Results saved to \u001b[1mC:\\Users\\rdiaz\\Documents\\GitHub\\landmark-detection-with-retrieval\\landmark_detection\\models\u001b[0m\n",
      "Predict:         yolo predict task=detect model=C:\\Users\\rdiaz\\Documents\\GitHub\\landmark-detection-with-retrieval\\landmark_detection\\models\\yolov8n-oiv7.onnx imgsz=640  \n",
      "Validate:        yolo val task=detect model=C:\\Users\\rdiaz\\Documents\\GitHub\\landmark-detection-with-retrieval\\landmark_detection\\models\\yolov8n-oiv7.onnx imgsz=640 data=/usr/src/ultralytics/ultralytics/cfg/datasets/open-images-v7.yaml  \n",
      "Visualize:       https://netron.app\n",
      "Instanciando el detector\n",
      "Creando versión ONNX del extractor\n",
      "Creando versión ONNX del pipeline completo\n",
      "Instanciando el extractor\n",
      "Instanciando el pipeline completo\n"
     ]
    }
   ],
   "source": [
    "pipeline = Pipeline_Yolo_CVNet_SG(\n",
    "        detector_file = \"yolov8n-oiv7.pt\",\n",
    "        extractor_onnx_file = \"cvnet-sg-v\" + str(VERSION) + \".onnx\",\n",
    "        pipeline_onnx_file = \"pipeline-yolo-cvnet-sg-v\" + str(VERSION) + \".onnx\",\n",
    "        image_dim = (640, 640),\n",
    "        allowed_classes = [41,68,70,74,87,95,113,144,150,158,164,165,193,205,212,224,257,\n",
    "                                      298,310,335,351,354,390,393,401,403,439,442,457,466,489,510,512,\n",
    "                                      514,524,530,531,543,546,554,565,573,580,587,588,591],\n",
    "        score_thresh = 0.10,\n",
    "        iou_thresh = 0.45,\n",
    "        scales = [0.7071, 1.0, 1.4142],\n",
    "        mean = [0.485, 0.456, 0.406],\n",
    "        std  = [0.229, 0.224, 0.225],\n",
    "        rgem_pr = 2.5,\n",
    "        rgem_size = 5,\n",
    "        gem_p = 4.6,\n",
    "        sgem_ps = 10.0,\n",
    "        sgem_infinity = False,\n",
    "        eps = 1e-8  \n",
    ")"
   ]
  },
  {
   "cell_type": "code",
   "execution_count": 4,
   "id": "da35c793-f454-4c5f-af4d-9dfb3ee6204f",
   "metadata": {},
   "outputs": [],
   "source": [
    "# Paths\n",
    "CLASS_NAMES_PATH = os.path.join(\"oiv7.yaml\")\n",
    "PIPELINE_CONFIG_PATH = os.path.join(\"configs\", \"pipeline-yolo-cvnet-sg-v\" + str(VERSION))\n",
    "DATASETS_PATH = os.path.abspath(\"datasets\")\n",
    "\n",
    "# Dataset Oxford\n",
    "ROXFORD5K_PATH = os.path.join(DATASETS_PATH, \"roxford5k\", \"jpg\")\n",
    "ROXFORD5K_PKL = os.path.join(DATASETS_PATH, \"roxford5k\", \"gnd_roxford5k.pkl\")\n",
    "ROXFORD5K_CSV = os.path.join(DATASETS_PATH, \"roxford5k\", \"roxford5k_image_data.csv\")\n",
    "ROXFORD5K_DF = os.path.join(DATASETS_PATH, \"roxford5k\", \"results\", \"df_roxford5k-v\" + str(VERSION) + \".pkl\")\n",
    "ROXFORD5K_DESC = os.path.join(DATASETS_PATH, \"roxford5k\", \"results\", \"desc_roxford5k-v\" + str(VERSION) + \".pkl\")\n",
    "\n",
    "# Dataset Paris\n",
    "RPARIS6K_PATH = os.path.join(DATASETS_PATH, \"rparis6k\", \"jpg\")\n",
    "RPARIS6K_PKL = os.path.join(DATASETS_PATH, \"rparis6k\", \"gnd_rparis6k.pkl\")\n",
    "RPARIS6K_CSV = os.path.join(DATASETS_PATH, \"rparis6k\", \"rparis6k_image_data.csv\")\n",
    "RPARIS6K_DF = os.path.join(DATASETS_PATH, \"rparis6k\", \"results\", \"df_rparis6k-v\" + str(VERSION) + \".pkl\")\n",
    "RPARIS6K_DESC = os.path.join(DATASETS_PATH, \"rparis6k\", \"results\", \"desc_rparis6k-v\" + str(VERSION) + \".pkl\")"
   ]
  },
  {
   "cell_type": "code",
   "execution_count": 5,
   "id": "a32f2f0d-ed73-4101-9c33-156a2fcd9a03",
   "metadata": {},
   "outputs": [],
   "source": [
    "pipeline.to_json(PIPELINE_CONFIG_PATH)"
   ]
  },
  {
   "cell_type": "code",
   "execution_count": 6,
   "id": "f8730813-203d-417d-8da2-204b2ef2f8ba",
   "metadata": {},
   "outputs": [
    {
     "name": "stderr",
     "output_type": "stream",
     "text": [
      "Procesando imágenes: 0it [00:00, ?it/s]\n"
     ]
    }
   ],
   "source": [
    "# Build/load roxford5k dataset\n",
    "df_result, descriptors_final = build_image_database(\n",
    "    pipeline,\n",
    "    image_folder = ROXFORD5K_PATH,\n",
    "    df_pickle_path = ROXFORD5K_DF,\n",
    "    descriptor_pickle_path = ROXFORD5K_DESC,\n",
    ")"
   ]
  },
  {
   "cell_type": "code",
   "execution_count": 7,
   "id": "9c52e40d-3110-46a8-a37c-0a88f7df12c6",
   "metadata": {},
   "outputs": [
    {
     "name": "stdout",
     "output_type": "stream",
     "text": [
      ">> roxford5k: Evaluating test dataset...\n",
      ">> roxford5k: Loading features...\n",
      ">> roxford5k: Retrieval...\n",
      ">> roxford5k: mAP E: 80.05, M: 64.04, H: 38.37\n",
      ">> roxford5k: mP@k[ 1  5 10] E: [      97.06       86.99       82.98], M: [      97.14       88.67        84.1], H: [         80       64.14       53.29]\n"
     ]
    }
   ],
   "source": [
    "# Evaluate roxford5k\n",
    "roxford5k_eval = run_evaluation(df_result, descriptors_final, 'roxford5k')"
   ]
  },
  {
   "cell_type": "code",
   "execution_count": 8,
   "id": "65d8e3a0-80c5-4768-9541-61ea9f1eb6a0",
   "metadata": {},
   "outputs": [
    {
     "name": "stdout",
     "output_type": "stream",
     "text": [
      ">> roxford5k: Evaluating test dataset...\n",
      ">> roxford5k: Loading features...\n",
      ">> roxford5k: Retrieval...\n",
      ">> roxford5k: mAP E: 211.43, M: 189.44, H: 113.65\n",
      ">> roxford5k: mP@k[ 1  5 10] E: [      95.59       88.24       81.47], M: [      95.71       93.14       86.86], H: [      82.86       76.29       66.14]\n"
     ]
    }
   ],
   "source": [
    "# Evaluate roxford5k\n",
    "roxford5k_eval = run_evaluation(df_result, descriptors_final, 'roxford5k', use_bbox=True)"
   ]
  },
  {
   "cell_type": "code",
   "execution_count": 9,
   "id": "a6ddc14b-c7d5-492a-98f1-9b07c2973573",
   "metadata": {},
   "outputs": [
    {
     "name": "stderr",
     "output_type": "stream",
     "text": [
      "Procesando imágenes: 0it [00:00, ?it/s]\n"
     ]
    }
   ],
   "source": [
    "# Build/load rparis6k dataset\n",
    "df_result, descriptors_final = build_image_database(\n",
    "    pipeline,\n",
    "    image_folder = RPARIS6K_PATH,\n",
    "    df_pickle_path = RPARIS6K_DF,\n",
    "    descriptor_pickle_path = RPARIS6K_DESC,\n",
    ")"
   ]
  },
  {
   "cell_type": "code",
   "execution_count": 10,
   "id": "6254b56e-dc56-41a8-beae-6d0fcaca0e88",
   "metadata": {},
   "outputs": [
    {
     "name": "stdout",
     "output_type": "stream",
     "text": [
      ">> rparis6k: Evaluating test dataset...\n",
      ">> rparis6k: Loading features...\n",
      ">> rparis6k: Retrieval...\n",
      ">> rparis6k: mAP E: 91.03, M: 80.66, H: 60.99\n",
      ">> rparis6k: mP@k[ 1  5 10] E: [      97.14          96       94.57], M: [        100       98.86          98], H: [      95.71       93.71          91]\n"
     ]
    }
   ],
   "source": [
    "# Evaluate rparis6k\n",
    "rparis6k_eval = run_evaluation(df_result, descriptors_final, 'rparis6k')"
   ]
  },
  {
   "cell_type": "code",
   "execution_count": 11,
   "id": "cb390565-e80f-4c88-b646-16ab1567c847",
   "metadata": {},
   "outputs": [
    {
     "name": "stdout",
     "output_type": "stream",
     "text": [
      ">> rparis6k: Evaluating test dataset...\n",
      ">> rparis6k: Loading features...\n",
      ">> rparis6k: Retrieval...\n",
      ">> rparis6k: mAP E: 229.08, M: 211.97, H: 155.09\n",
      ">> rparis6k: mP@k[ 1  5 10] E: [      97.14       96.57       95.86], M: [        100       98.86       98.71], H: [      97.14       95.71       95.14]\n"
     ]
    }
   ],
   "source": [
    "# Evaluate rparis6k\n",
    "rparis6k_eval = run_evaluation(df_result, descriptors_final, 'rparis6k', use_bbox=True)"
   ]
  }
 ],
 "metadata": {
  "kernelspec": {
   "display_name": "Python 3 (ipykernel)",
   "language": "python",
   "name": "python3"
  },
  "language_info": {
   "codemirror_mode": {
    "name": "ipython",
    "version": 3
   },
   "file_extension": ".py",
   "mimetype": "text/x-python",
   "name": "python",
   "nbconvert_exporter": "python",
   "pygments_lexer": "ipython3",
   "version": "3.11.11"
  }
 },
 "nbformat": 4,
 "nbformat_minor": 5
}

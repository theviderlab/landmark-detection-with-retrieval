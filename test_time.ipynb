{
 "cells": [
  {
   "cell_type": "code",
   "execution_count": 1,
   "id": "79fa9d60-9f53-43db-9daa-7cf332860e79",
   "metadata": {},
   "outputs": [],
   "source": [
    "from landmark_detection.utils import load_image_database\n",
    "import os\n",
    "import onnxruntime as ort\n",
    "import cv2\n",
    "import torch\n",
    "import numpy as np\n",
    "import time\n",
    "from tqdm import tqdm"
   ]
  },
  {
   "cell_type": "code",
   "execution_count": 2,
   "id": "471a3c4e-e5dd-49a2-9238-d44c49fcc827",
   "metadata": {},
   "outputs": [
    {
     "name": "stdout",
     "output_type": "stream",
     "text": [
      "\n",
      "🔄 Ejecutando versión 51...\n"
     ]
    },
    {
     "name": "stderr",
     "output_type": "stream",
     "text": [
      "Procesando v51: 100%|████████████████████████████████████████████████████████████████████████████████████████████████████████████████████████████████████████████████████████| 5063/5063 [51:47<00:00,  1.63img/s]\n"
     ]
    },
    {
     "name": "stdout",
     "output_type": "stream",
     "text": [
      "⏱️ Tiempo promedio por imagen (v51): 0.5655 segundos\n",
      "\n",
      "🔄 Ejecutando versión 52...\n"
     ]
    },
    {
     "name": "stderr",
     "output_type": "stream",
     "text": [
      "Procesando v52: 100%|████████████████████████████████████████████████████████████████████████████████████████████████████████████████████████████████████████████████████████| 5063/5063 [58:56<00:00,  1.43img/s]\n"
     ]
    },
    {
     "name": "stdout",
     "output_type": "stream",
     "text": [
      "⏱️ Tiempo promedio por imagen (v52): 0.6474 segundos\n",
      "\n",
      "🔄 Ejecutando versión 53...\n"
     ]
    },
    {
     "name": "stderr",
     "output_type": "stream",
     "text": [
      "Procesando v53: 100%|██████████████████████████████████████████████████████████████████████████████████████████████████████████████████████████████████████████████████████| 5063/5063 [1:03:34<00:00,  1.33img/s]\n"
     ]
    },
    {
     "name": "stdout",
     "output_type": "stream",
     "text": [
      "⏱️ Tiempo promedio por imagen (v53): 0.7018 segundos\n",
      "\n",
      "🔄 Ejecutando versión 54...\n"
     ]
    },
    {
     "name": "stderr",
     "output_type": "stream",
     "text": [
      "Procesando v54: 100%|██████████████████████████████████████████████████████████████████████████████████████████████████████████████████████████████████████████████████████| 5063/5063 [1:08:53<00:00,  1.22img/s]\n"
     ]
    },
    {
     "name": "stdout",
     "output_type": "stream",
     "text": [
      "⏱️ Tiempo promedio por imagen (v54): 0.7638 segundos\n",
      "\n",
      "🔄 Ejecutando versión 55...\n"
     ]
    },
    {
     "name": "stderr",
     "output_type": "stream",
     "text": [
      "Procesando v55: 100%|██████████████████████████████████████████████████████████████████████████████████████████████████████████████████████████████████████████████████████| 5063/5063 [1:16:05<00:00,  1.11img/s]\n"
     ]
    },
    {
     "name": "stdout",
     "output_type": "stream",
     "text": [
      "⏱️ Tiempo promedio por imagen (v55): 0.8489 segundos\n",
      "\n",
      "🔄 Ejecutando versión 56...\n"
     ]
    },
    {
     "name": "stderr",
     "output_type": "stream",
     "text": [
      "Procesando v56: 100%|██████████████████████████████████████████████████████████████████████████████████████████████████████████████████████████████████████████████████████| 5063/5063 [1:22:27<00:00,  1.02img/s]\n"
     ]
    },
    {
     "name": "stdout",
     "output_type": "stream",
     "text": [
      "⏱️ Tiempo promedio por imagen (v56): 0.9257 segundos\n",
      "\n",
      "🔄 Ejecutando versión 57...\n"
     ]
    },
    {
     "name": "stderr",
     "output_type": "stream",
     "text": [
      "Procesando v57: 100%|██████████████████████████████████████████████████████████████████████████████████████████████████████████████████████████████████████████████████████| 5063/5063 [1:30:12<00:00,  1.07s/img]\n"
     ]
    },
    {
     "name": "stdout",
     "output_type": "stream",
     "text": [
      "⏱️ Tiempo promedio por imagen (v57): 1.0174 segundos\n",
      "\n",
      "🔄 Ejecutando versión 58...\n"
     ]
    },
    {
     "name": "stderr",
     "output_type": "stream",
     "text": [
      "Procesando v58: 100%|██████████████████████████████████████████████████████████████████████████████████████████████████████████████████████████████████████████████████████| 5063/5063 [1:39:50<00:00,  1.18s/img]\n"
     ]
    },
    {
     "name": "stdout",
     "output_type": "stream",
     "text": [
      "⏱️ Tiempo promedio por imagen (v58): 1.1315 segundos\n",
      "\n",
      "🔄 Ejecutando versión 59...\n"
     ]
    },
    {
     "name": "stderr",
     "output_type": "stream",
     "text": [
      "Procesando v59: 100%|██████████████████████████████████████████████████████████████████████████████████████████████████████████████████████████████████████████████████████| 5063/5063 [2:11:01<00:00,  1.55s/img]"
     ]
    },
    {
     "name": "stdout",
     "output_type": "stream",
     "text": [
      "⏱️ Tiempo promedio por imagen (v59): 1.5018 segundos\n",
      "\n",
      "📊 Tiempos promedio por versión:\n",
      "  - Versión 51: 0.5655 s/img\n",
      "  - Versión 52: 0.6474 s/img\n",
      "  - Versión 53: 0.7018 s/img\n",
      "  - Versión 54: 0.7638 s/img\n",
      "  - Versión 55: 0.8489 s/img\n",
      "  - Versión 56: 0.9257 s/img\n",
      "  - Versión 57: 1.0174 s/img\n",
      "  - Versión 58: 1.1315 s/img\n",
      "  - Versión 59: 1.5018 s/img\n"
     ]
    },
    {
     "name": "stderr",
     "output_type": "stream",
     "text": [
      "\n"
     ]
    }
   ],
   "source": [
    "versions = [51, 52, 53, 54, 55, 56, 57, 58, 59]\n",
    "avg_times_per_version = {}  # Guardamos los tiempos promedio aquí\n",
    "\n",
    "for version in versions:\n",
    "    print(f\"\\n🔄 Ejecutando versión {version}...\")\n",
    "\n",
    "    # Paths\n",
    "    PIPELINE_ONNX = os.path.join(\"landmark_detection\", \"models\", f\"pipeline-yolo-cvnet-sg-v{version}.onnx\")\n",
    "    RESULTS_PATH = os.path.join(\"datasets\", \"roxford5k\", \"results\", f\"df_roxford5k-v{version}.pkl\")\n",
    "    DESCRIPTORS_PATH = os.path.join(\"datasets\", \"roxford5k\", \"results\", f\"desc_roxford5k-v{version}.pkl\")\n",
    "    IMAGE_PATH = os.path.join(\"datasets\", \"roxford5k\", \"jpg\")\n",
    "    \n",
    "    # Cargar modelo y datos\n",
    "    pipeline = ort.InferenceSession(PIPELINE_ONNX, providers=[\"CPUExecutionProvider\"])\n",
    "    df_result, descriptors_final, places_db = load_image_database(RESULTS_PATH, DESCRIPTORS_PATH)\n",
    "    image_names = df_result[df_result['class_id'] == -1]['image_name']\n",
    "    \n",
    "    # Convertir base de datos a numpy\n",
    "    if isinstance(places_db, torch.Tensor):\n",
    "        db_np = places_db.detach().cpu().numpy().astype(np.float32)\n",
    "    else:\n",
    "        db_np = np.asarray(places_db, dtype=np.float32)\n",
    "\n",
    "    # Procesar imágenes con barra de progreso\n",
    "    total_time = 0\n",
    "    for image_name in tqdm(image_names, desc=f\"Procesando v{version}\", unit=\"img\"):\n",
    "        image = os.path.join(IMAGE_PATH, image_name)\n",
    "        img_bgr = cv2.imread(image)\n",
    "        img_tensor = torch.as_tensor(img_bgr)\n",
    "\n",
    "        pipeline_inputs = {\n",
    "            pipeline.get_inputs()[0].name: img_tensor.numpy(),\n",
    "            pipeline.get_inputs()[1].name: db_np,\n",
    "        }\n",
    "\n",
    "        start = time.time()\n",
    "        pipeline.run(None, pipeline_inputs)\n",
    "        end = time.time()\n",
    "\n",
    "        total_time += end - start\n",
    "\n",
    "    avg_time = total_time / len(image_names)\n",
    "    avg_times_per_version[version] = avg_time\n",
    "    print(f\"⏱️ Tiempo promedio por imagen (v{version}): {avg_time:.4f} segundos\")\n",
    "\n",
    "# Mostrar todos los resultados\n",
    "print(\"\\n📊 Tiempos promedio por versión:\")\n",
    "for version, avg_time in avg_times_per_version.items():\n",
    "    print(f\"  - Versión {version}: {avg_time:.4f} s/img\")"
   ]
  }
 ],
 "metadata": {
  "kernelspec": {
   "display_name": "Python 3 (ipykernel)",
   "language": "python",
   "name": "python3"
  },
  "language_info": {
   "codemirror_mode": {
    "name": "ipython",
    "version": 3
   },
   "file_extension": ".py",
   "mimetype": "text/x-python",
   "name": "python",
   "nbconvert_exporter": "python",
   "pygments_lexer": "ipython3",
   "version": "3.11.11"
  }
 },
 "nbformat": 4,
 "nbformat_minor": 5
}
